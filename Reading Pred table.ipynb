{
 "cells": [
  {
   "cell_type": "code",
   "execution_count": 2,
   "metadata": {},
   "outputs": [],
   "source": [
    "import sqlalchemy\n",
    "import pandas as pd\n",
    "\n",
    "username = 'postgres'\n",
    "password = 'tsKVMTUOHtCZpVQYPtRbvkBdzmABPbDV'\n",
    "host_name = 'roundhouse.proxy.rlwy.net'\n",
    "port = 8000\n",
    "db_name = 'railway'\n",
    "\n",
    "conn_str = 'postgresql://{}:{}@{}:{}/{}'.format(username,password,host_name,port,db_name)\n",
    "engine = sqlalchemy.create_engine(conn_str)\n",
    "query = 'SELECT * FROM prediction;'\n",
    "data_server = pd.read_sql_query(query, engine)\n",
    "\n",
    "df = data_server.copy()\n",
    "df_ = pd.DataFrame()\n",
    "for i in range(len(df['observation'])):\n",
    "    new = pd.DataFrame([json.loads(df['observation'][i])])\n",
    "    df_=pd.concat([df_,new])\n",
    "df_=df_.reset_index().drop(columns=['index'])\n",
    "df_.head()\n",
    "\n",
    "df_original['new'] = False\n",
    "df_['new'] = True\n",
    "concatenated_df = pd.concat([df_original, df_])\n",
    "final_df = concatenated_df.drop_duplicates(subset='observation_id', keep='last')\n",
    "final_df.set_index('observation_id', inplace = True)\n",
    "final_df"
   ]
  },
  {
   "cell_type": "code",
   "execution_count": null,
   "metadata": {},
   "outputs": [],
   "source": []
  }
 ],
 "metadata": {
  "kernelspec": {
   "display_name": "env_railway",
   "language": "python",
   "name": "python3"
  },
  "language_info": {
   "codemirror_mode": {
    "name": "ipython",
    "version": 3
   },
   "file_extension": ".py",
   "mimetype": "text/x-python",
   "name": "python",
   "nbconvert_exporter": "python",
   "pygments_lexer": "ipython3",
   "version": "3.10.13"
  }
 },
 "nbformat": 4,
 "nbformat_minor": 2
}
